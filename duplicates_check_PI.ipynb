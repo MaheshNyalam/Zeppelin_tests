{
  "cells": [
    {
      "cell_type": "code",
      "execution_count": null,
      "metadata": {
        "autoscroll": "auto"
      },
      "outputs": [],
      "source": [
        "%pyspark\n",
        "df_cq_pi = sqlContext.sql(\"\"\"select store_number, \n",
        "                                    sku_number, \n",
        "                                    merchandise_group_desc \n",
        "                                from dpdm_prod.cq_prediction_input\"\"\")\n",
        "df_cq_pi.createOrReplaceTempView(\"df_cq_pi\")\n",
        "df_dupes_check = sqlContext.sql(\"\"\"select store_number, \n",
        "                                          sku_number, \n",
        "                                          merchandise_group_desc, \n",
        "                                          count(*) \n",
        "                                    from df_cq_pi \n",
        "                                    where store_number is not null \n",
        "                                        and sku_number is not null \n",
        "                                    group by store_number, sku_number, merchandise_group_desc \n",
        "                                    having count(*) > 1\"\"\")\n",
        "df_dupes_check.createOrReplaceTempView(\"df_dupes_check\")\n",
        "df_dupes_bpgs = sqlContext.sql(\"\"\"select distinct merchandise_group_desc \n",
        "                        from df_dupes_check \n",
        "                        order by merchandise_group_desc\"\"\")\n",
        "print \"No.of BPG's having duplicates: \", df_dupes_bpgs.count()\n",
        "df_dupes_bpgs.show(1000, truncate=False)"
      ]
    },
    {
      "cell_type": "raw",
      "metadata": {
        "format": "text/plain"
      },
      "source": [
        "%pyspark\n"
      ]
    }
  ],
  "metadata": {
    "kernelspec": {
      "language": "scala",
      "name": "spark2-scala"
    },
    "language_info": {
      "codemirror_mode": "text/x-scala",
      "file_extension": ".scala",
      "mimetype": "text/x-scala",
      "name": "scala",
      "pygments_lexer": "scala"
    },
    "name": "duplicates_check_PI"
  },
  "nbformat": 4,
  "nbformat_minor": 2
}
